{
 "cells": [
  {
   "cell_type": "code",
   "execution_count": 1,
   "id": "baf1e6eb",
   "metadata": {},
   "outputs": [],
   "source": [
    "import numpy as np\n",
    "import pandas as pd\n",
    "import matplotlib.pyplot as plt"
   ]
  },
  {
   "cell_type": "code",
   "execution_count": 15,
   "id": "78ef8655",
   "metadata": {},
   "outputs": [],
   "source": [
    "class GradientDescentLinearRegression:\n",
    "    def __init__(self, learning_rate=0.001, iterations=5000):\n",
    "        self.learning_rate, self.iterations = learning_rate, iterations\n",
    "    \n",
    "    def fit(self, X, y):\n",
    "        b = 0\n",
    "        m = 0\n",
    "        n = X.shape[0]\n",
    "        for _ in range(self.iterations):\n",
    "            b_gradient = 2 * np.sum((m*X + b)-y) / n\n",
    "            m_gradient = 2 * np.sum(X*((m*X + b) - y)) / n\n",
    "            b = b - (self.learning_rate * b_gradient)\n",
    "            m = m - (self.learning_rate * m_gradient)\n",
    "        self.m, self.b = m, b\n",
    "        \n",
    "    def predict(self, X):\n",
    "        return self.m*X + self.b"
   ]
  },
  {
   "cell_type": "code",
   "execution_count": 16,
   "id": "f4e69a4b",
   "metadata": {},
   "outputs": [],
   "source": [
    "data = pd.read_csv(\"./slr06.csv\")"
   ]
  },
  {
   "cell_type": "code",
   "execution_count": 17,
   "id": "3b369bff",
   "metadata": {},
   "outputs": [
    {
     "data": {
      "text/html": [
       "<div>\n",
       "<style scoped>\n",
       "    .dataframe tbody tr th:only-of-type {\n",
       "        vertical-align: middle;\n",
       "    }\n",
       "\n",
       "    .dataframe tbody tr th {\n",
       "        vertical-align: top;\n",
       "    }\n",
       "\n",
       "    .dataframe thead th {\n",
       "        text-align: right;\n",
       "    }\n",
       "</style>\n",
       "<table border=\"1\" class=\"dataframe\">\n",
       "  <thead>\n",
       "    <tr style=\"text-align: right;\">\n",
       "      <th></th>\n",
       "      <th>X</th>\n",
       "      <th>Y</th>\n",
       "    </tr>\n",
       "  </thead>\n",
       "  <tbody>\n",
       "    <tr>\n",
       "      <th>0</th>\n",
       "      <td>108</td>\n",
       "      <td>392.5</td>\n",
       "    </tr>\n",
       "    <tr>\n",
       "      <th>1</th>\n",
       "      <td>19</td>\n",
       "      <td>46.2</td>\n",
       "    </tr>\n",
       "    <tr>\n",
       "      <th>2</th>\n",
       "      <td>13</td>\n",
       "      <td>15.7</td>\n",
       "    </tr>\n",
       "    <tr>\n",
       "      <th>3</th>\n",
       "      <td>124</td>\n",
       "      <td>422.2</td>\n",
       "    </tr>\n",
       "    <tr>\n",
       "      <th>4</th>\n",
       "      <td>40</td>\n",
       "      <td>119.4</td>\n",
       "    </tr>\n",
       "  </tbody>\n",
       "</table>\n",
       "</div>"
      ],
      "text/plain": [
       "     X      Y\n",
       "0  108  392.5\n",
       "1   19   46.2\n",
       "2   13   15.7\n",
       "3  124  422.2\n",
       "4   40  119.4"
      ]
     },
     "execution_count": 17,
     "metadata": {},
     "output_type": "execute_result"
    }
   ],
   "source": [
    "data.head(5)"
   ]
  },
  {
   "cell_type": "code",
   "execution_count": 18,
   "id": "62fc5934",
   "metadata": {},
   "outputs": [],
   "source": [
    "model = GradientDescentLinearRegression()"
   ]
  },
  {
   "cell_type": "code",
   "execution_count": 19,
   "id": "c5cb15cb",
   "metadata": {},
   "outputs": [],
   "source": [
    "X = data.X[1:]"
   ]
  },
  {
   "cell_type": "code",
   "execution_count": 20,
   "id": "2eb3cc0d",
   "metadata": {},
   "outputs": [],
   "source": [
    "Y = data.Y[1:]"
   ]
  },
  {
   "cell_type": "code",
   "execution_count": 21,
   "id": "07058f05",
   "metadata": {},
   "outputs": [
    {
     "data": {
      "text/plain": [
       "1      19\n",
       "2      13\n",
       "3     124\n",
       "4      40\n",
       "5      57\n",
       "     ... \n",
       "58      9\n",
       "59     31\n",
       "60     14\n",
       "61     53\n",
       "62     26\n",
       "Name: X, Length: 62, dtype: int64"
      ]
     },
     "execution_count": 21,
     "metadata": {},
     "output_type": "execute_result"
    }
   ],
   "source": [
    "X"
   ]
  },
  {
   "cell_type": "code",
   "execution_count": 22,
   "id": "62815331",
   "metadata": {},
   "outputs": [
    {
     "data": {
      "text/plain": [
       "1      46.2\n",
       "2      15.7\n",
       "3     422.2\n",
       "4     119.4\n",
       "5     170.9\n",
       "      ...  \n",
       "58     87.4\n",
       "59    209.8\n",
       "60     95.5\n",
       "61    244.6\n",
       "62    187.5\n",
       "Name: Y, Length: 62, dtype: float64"
      ]
     },
     "execution_count": 22,
     "metadata": {},
     "output_type": "execute_result"
    }
   ],
   "source": [
    "Y"
   ]
  },
  {
   "cell_type": "code",
   "execution_count": 23,
   "id": "3f944c8e",
   "metadata": {},
   "outputs": [],
   "source": [
    "model.fit(data.X[1:], data.Y[1:])"
   ]
  },
  {
   "cell_type": "code",
   "execution_count": 24,
   "id": "c72747c1",
   "metadata": {},
   "outputs": [],
   "source": [
    "pred = model.predict(data.X[1:])"
   ]
  },
  {
   "cell_type": "code",
   "execution_count": 25,
   "id": "890f1f62",
   "metadata": {},
   "outputs": [
    {
     "data": {
      "image/png": "[encoded data removed]",
      "text/plain": [
       "<Figure size 432x288 with 1 Axes>"
      ]
     },
     "metadata": {
      "needs_background": "light"
     },
     "output_type": "display_data"
    }
   ],
   "source": [
    "plt.scatter(X[1:], Y[1:]) \n",
    "plt.plot(data.X[1:], pred, color='red')  # regression line\n",
    "plt.show()"
   ]
  },
  {
   "cell_type": "code",
   "execution_count": 26,
   "id": "fadf05a5",
   "metadata": {},
   "outputs": [
    {
     "data": {
      "text/plain": [
       "20.0344889425405"
      ]
     },
     "execution_count": 26,
     "metadata": {},
     "output_type": "execute_result"
    }
   ],
   "source": [
    "model.b"
   ]
  },
  {
   "cell_type": "code",
   "execution_count": 27,
   "id": "efff7628",
   "metadata": {},
   "outputs": [
    {
     "data": {
      "text/plain": [
       "3.405398430404279"
      ]
     },
     "execution_count": 27,
     "metadata": {},
     "output_type": "execute_result"
    }
   ],
   "source": [
    "model.m"
   ]
  },
  {
   "cell_type": "code",
   "execution_count": 31,
   "id": "8b22320d",
   "metadata": {},
   "outputs": [
    {
     "name": "stdout",
     "output_type": "stream",
     "text": [
      "The Model equation is 3.405398430404279*X -20.0344889425405\n"
     ]
    }
   ],
   "source": [
    "print(\"The Model equation is \" + str(model.m) + \"*X -\" + str(model.b))"
   ]
  },
  {
   "cell_type": "code",
   "execution_count": null,
   "id": "cbf76036",
   "metadata": {},
   "outputs": [],
   "source": []
  }
 ],
 "metadata": {
  "kernelspec": {
   "display_name": "Python 3",
   "language": "python",
   "name": "python3"
  },
  "language_info": {
   "codemirror_mode": {
    "name": "ipython",
    "version": 3
   },
   "file_extension": ".py",
   "mimetype": "text/x-python",
   "name": "python",
   "nbconvert_exporter": "python",
   "pygments_lexer": "ipython3",
   "version": "3.8.8"
  }
 },
 "nbformat": 4,
 "nbformat_minor": 5
}
