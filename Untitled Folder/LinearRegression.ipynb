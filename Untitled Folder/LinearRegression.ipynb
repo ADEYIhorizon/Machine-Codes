{
 "cells": [
  {
   "cell_type": "markdown",
   "id": "8499cfc2",
   "metadata": {},
   "source": [
    "## Simple Linear Regression"
   ]
  },
  {
   "cell_type": "raw",
   "id": "21c0ffdc",
   "metadata": {},
   "source": [
    "y = bo + b1*x\n",
    "\n",
    "b1 = sum(x(i) - mean(x))*(y(i) - mean(y))/sum(x(i)-mean(x))^2\n",
    "b0 = mean(y) - b1*mean(x)"
   ]
  },
  {
   "cell_type": "raw",
   "id": "d0e09381",
   "metadata": {},
   "source": [
    "Steps \n",
    "Calculate the mean and variance\n",
    "Calculate the covariance\n",
    "Estimate the coefficients\n",
    "Make Predictions\n",
    "Predict "
   ]
  },
  {
   "cell_type": "markdown",
   "id": "6b0ca82c",
   "metadata": {},
   "source": [
    "### Calculate the Mean and Varaince"
   ]
  },
  {
   "cell_type": "code",
   "execution_count": 1,
   "id": "6e01684a",
   "metadata": {},
   "outputs": [],
   "source": [
    "# import the dataset and libraries"
   ]
  },
  {
   "cell_type": "code",
   "execution_count": 2,
   "id": "f8946ced",
   "metadata": {},
   "outputs": [],
   "source": [
    "import numpy as np\n",
    "import pandas as pd"
   ]
  },
  {
   "cell_type": "code",
   "execution_count": 3,
   "id": "66e41509",
   "metadata": {},
   "outputs": [],
   "source": [
    "dataset = pd.read_csv(\"./slr06.csv\")"
   ]
  },
  {
   "cell_type": "code",
   "execution_count": 5,
   "id": "52a6cc25",
   "metadata": {},
   "outputs": [
    {
     "data": {
      "text/html": [
       "<div>\n",
       "<style scoped>\n",
       "    .dataframe tbody tr th:only-of-type {\n",
       "        vertical-align: middle;\n",
       "    }\n",
       "\n",
       "    .dataframe tbody tr th {\n",
       "        vertical-align: top;\n",
       "    }\n",
       "\n",
       "    .dataframe thead th {\n",
       "        text-align: right;\n",
       "    }\n",
       "</style>\n",
       "<table border=\"1\" class=\"dataframe\">\n",
       "  <thead>\n",
       "    <tr style=\"text-align: right;\">\n",
       "      <th></th>\n",
       "      <th>X</th>\n",
       "      <th>Y</th>\n",
       "    </tr>\n",
       "  </thead>\n",
       "  <tbody>\n",
       "    <tr>\n",
       "      <th>0</th>\n",
       "      <td>108</td>\n",
       "      <td>392.5</td>\n",
       "    </tr>\n",
       "    <tr>\n",
       "      <th>1</th>\n",
       "      <td>19</td>\n",
       "      <td>46.2</td>\n",
       "    </tr>\n",
       "    <tr>\n",
       "      <th>2</th>\n",
       "      <td>13</td>\n",
       "      <td>15.7</td>\n",
       "    </tr>\n",
       "    <tr>\n",
       "      <th>3</th>\n",
       "      <td>124</td>\n",
       "      <td>422.2</td>\n",
       "    </tr>\n",
       "    <tr>\n",
       "      <th>4</th>\n",
       "      <td>40</td>\n",
       "      <td>119.4</td>\n",
       "    </tr>\n",
       "  </tbody>\n",
       "</table>\n",
       "</div>"
      ],
      "text/plain": [
       "     X      Y\n",
       "0  108  392.5\n",
       "1   19   46.2\n",
       "2   13   15.7\n",
       "3  124  422.2\n",
       "4   40  119.4"
      ]
     },
     "execution_count": 5,
     "metadata": {},
     "output_type": "execute_result"
    }
   ],
   "source": [
    "dataset.head(5)"
   ]
  },
  {
   "cell_type": "code",
   "execution_count": 6,
   "id": "940b222b",
   "metadata": {},
   "outputs": [],
   "source": [
    "import matplotlib.pyplot as plt"
   ]
  },
  {
   "cell_type": "code",
   "execution_count": 10,
   "id": "e26c3e32",
   "metadata": {},
   "outputs": [
    {
     "data": {
      "text/plain": [
       "<matplotlib.collections.PathCollection at 0x1d1b7f47520>"
      ]
     },
     "execution_count": 10,
     "metadata": {},
     "output_type": "execute_result"
    },
    {
     "data": {
      "image/png": "[encoded data removed]",
      "text/plain": [
       "<Figure size 432x288 with 1 Axes>"
      ]
     },
     "metadata": {
      "needs_background": "light"
     },
     "output_type": "display_data"
    }
   ],
   "source": [
    "plt.scatter(dataset[\"X\"], dataset[\"Y\"])"
   ]
  },
  {
   "cell_type": "code",
   "execution_count": 11,
   "id": "e0d60b53",
   "metadata": {},
   "outputs": [],
   "source": [
    "def mean(values):\n",
    "    return sum(values)/len(values)"
   ]
  },
  {
   "cell_type": "code",
   "execution_count": 12,
   "id": "f9320933",
   "metadata": {},
   "outputs": [
    {
     "data": {
      "text/plain": [
       "22.904761904761905"
      ]
     },
     "execution_count": 12,
     "metadata": {},
     "output_type": "execute_result"
    }
   ],
   "source": [
    "mean(dataset[\"X\"])"
   ]
  },
  {
   "cell_type": "code",
   "execution_count": 13,
   "id": "adc7deed",
   "metadata": {},
   "outputs": [
    {
     "data": {
      "text/plain": [
       "98.18730158730159"
      ]
     },
     "execution_count": 13,
     "metadata": {},
     "output_type": "execute_result"
    }
   ],
   "source": [
    "mean(dataset[\"Y\"])"
   ]
  },
  {
   "cell_type": "code",
   "execution_count": 22,
   "id": "e5e66b42",
   "metadata": {},
   "outputs": [],
   "source": [
    "def variance(values):\n",
    "    mean = sum(values)/len(values)\n",
    "    return sum([(x-mean)**2 for x in values])"
   ]
  },
  {
   "cell_type": "code",
   "execution_count": 23,
   "id": "921f14a1",
   "metadata": {},
   "outputs": [],
   "source": [
    "var_x = variance(dataset['X'])"
   ]
  },
  {
   "cell_type": "code",
   "execution_count": 24,
   "id": "f8d52025",
   "metadata": {},
   "outputs": [],
   "source": [
    "var_y = variance(dataset['Y'])"
   ]
  },
  {
   "cell_type": "code",
   "execution_count": 25,
   "id": "863f3c93",
   "metadata": {},
   "outputs": [
    {
     "data": {
      "text/plain": [
       "33809.42857142858"
      ]
     },
     "execution_count": 25,
     "metadata": {},
     "output_type": "execute_result"
    }
   ],
   "source": [
    "var_x"
   ]
  },
  {
   "cell_type": "code",
   "execution_count": 26,
   "id": "9be65691",
   "metadata": {},
   "outputs": [
    {
     "data": {
      "text/plain": [
       "472818.28984126967"
      ]
     },
     "execution_count": 26,
     "metadata": {},
     "output_type": "execute_result"
    }
   ],
   "source": [
    "var_y"
   ]
  },
  {
   "cell_type": "markdown",
   "id": "962c31e0",
   "metadata": {},
   "source": [
    "### Calculate the Covariance"
   ]
  },
  {
   "cell_type": "code",
   "execution_count": 28,
   "id": "91571f76",
   "metadata": {},
   "outputs": [],
   "source": [
    "def covariance(x, y):\n",
    "    mean_x = mean(x)\n",
    "    mean_y = mean(y)\n",
    "    covar = 0.0\n",
    "    for i in range(len(x)):\n",
    "        covar += ((x[i]- mean_x)*(y[i]-mean_y))\n",
    "    return covar"
   ]
  },
  {
   "cell_type": "code",
   "execution_count": 29,
   "id": "19628894",
   "metadata": {},
   "outputs": [
    {
     "data": {
      "text/plain": [
       "115419.42380952384"
      ]
     },
     "execution_count": 29,
     "metadata": {},
     "output_type": "execute_result"
    }
   ],
   "source": [
    "covariance(dataset[\"X\"], dataset[\"Y\"])"
   ]
  },
  {
   "cell_type": "markdown",
   "id": "c0bc20bf",
   "metadata": {},
   "source": [
    "### Estimate the Coefficents"
   ]
  },
  {
   "cell_type": "code",
   "execution_count": 44,
   "id": "c05cf752",
   "metadata": {},
   "outputs": [],
   "source": [
    "def coefficents(dataset):\n",
    "    covariance_xy = covariance(dataset[\"X\"], dataset[\"Y\"])\n",
    "    variance_x = variance(dataset[\"X\"])\n",
    "    mean_y = mean(dataset[\"Y\"])\n",
    "    mean_x = mean(dataset[\"X\"])\n",
    "    B1 =  covariance_xy/variance_x\n",
    "    B0 = mean_y - (B1*mean_x)\n",
    "    return [B0, B1]"
   ]
  },
  {
   "cell_type": "code",
   "execution_count": 49,
   "id": "afb1e704",
   "metadata": {},
   "outputs": [
    {
     "data": {
      "text/plain": [
       "[19.99448575911481, 3.4138235600663664]"
      ]
     },
     "execution_count": 49,
     "metadata": {},
     "output_type": "execute_result"
    }
   ],
   "source": [
    "coefficents(dataset)"
   ]
  },
  {
   "cell_type": "raw",
   "id": "f811704e",
   "metadata": {},
   "source": [
    "y = 19.994 + 3.4138*x"
   ]
  },
  {
   "cell_type": "code",
   "execution_count": 87,
   "id": "3fb74c94",
   "metadata": {},
   "outputs": [],
   "source": [
    "def str_column_to_float(dataset, column):\n",
    "    for row in dataset:\n",
    "        row[column] = float(row[column].strip())\n",
    "        \n",
    "        \n",
    "def simple_linear_regression(train, test):\n",
    "    predictions= list()\n",
    "    b0, b1 = coefficents(train)\n",
    "    yhat = b0 + b1*test.X\n",
    "    predictions.append(yhat)\n",
    "    return predictions"
   ]
  },
  {
   "cell_type": "code",
   "execution_count": 126,
   "id": "7b380433",
   "metadata": {},
   "outputs": [],
   "source": [
    "preed = simple_linear_regression(dataset, dataset)"
   ]
  },
  {
   "cell_type": "code",
   "execution_count": 133,
   "id": "3c8664c6",
   "metadata": {},
   "outputs": [],
   "source": [
    "preed = np.array(preed).transpose()\n",
    "X1 = np.array(dataset.X)"
   ]
  },
  {
   "cell_type": "code",
   "execution_count": 134,
   "id": "11a26cf3",
   "metadata": {},
   "outputs": [
    {
     "data": {
      "text/plain": [
       "(63, 1)"
      ]
     },
     "execution_count": 134,
     "metadata": {},
     "output_type": "execute_result"
    }
   ],
   "source": [
    "preed.shape"
   ]
  },
  {
   "cell_type": "code",
   "execution_count": 123,
   "id": "b03a08f0",
   "metadata": {},
   "outputs": [
    {
     "data": {
      "text/plain": [
       "numpy.float64"
      ]
     },
     "execution_count": 123,
     "metadata": {},
     "output_type": "execute_result"
    }
   ],
   "source": [
    "type(b0)"
   ]
  },
  {
   "cell_type": "code",
   "execution_count": 124,
   "id": "67e9f3ca",
   "metadata": {},
   "outputs": [
    {
     "data": {
      "text/plain": [
       "3.4138235600663664"
      ]
     },
     "execution_count": 124,
     "metadata": {},
     "output_type": "execute_result"
    }
   ],
   "source": [
    "b1"
   ]
  },
  {
   "cell_type": "code",
   "execution_count": 135,
   "id": "78f0e3ee",
   "metadata": {},
   "outputs": [
    {
     "data": {
      "text/plain": [
       "[<matplotlib.lines.Line2D at 0x1d1b9157250>]"
      ]
     },
     "execution_count": 135,
     "metadata": {},
     "output_type": "execute_result"
    },
    {
     "data": {
      "image/png": "[encoded data removed]",
      "text/plain": [
       "<Figure size 432x288 with 1 Axes>"
      ]
     },
     "metadata": {
      "needs_background": "light"
     },
     "output_type": "display_data"
    }
   ],
   "source": [
    "ax = plt.axes()\n",
    "ax.scatter(dataset[\"X\"], dataset[\"Y\"])\n",
    "ax.plot(X1, preed)"
   ]
  },
  {
   "cell_type": "code",
   "execution_count": null,
   "id": "982fd867",
   "metadata": {},
   "outputs": [],
   "source": []
  }
 ],
 "metadata": {
  "kernelspec": {
   "display_name": "Python 3",
   "language": "python",
   "name": "python3"
  },
  "language_info": {
   "codemirror_mode": {
    "name": "ipython",
    "version": 3
   },
   "file_extension": ".py",
   "mimetype": "text/x-python",
   "name": "python",
   "nbconvert_exporter": "python",
   "pygments_lexer": "ipython3",
   "version": "3.8.8"
  }
 },
 "nbformat": 4,
 "nbformat_minor": 5
}
